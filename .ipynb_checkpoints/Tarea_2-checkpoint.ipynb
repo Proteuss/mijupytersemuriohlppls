{
 "cells": [
  {
   "cell_type": "markdown",
   "metadata": {},
   "source": [
    "<img src=\"escudo_utfsm.gif\" style=\"float:right;height:100px\">\n",
    "<img src=\"IsotipoDIisocolor.png\" style=\"float:left;height:100px\">\n",
    "<center>\n",
    "    <h1> ILI286 Computación Científica I</h1>\n",
    "    <h1> Tarea N°2: Busqueda de ceros 1D</h1>\n",
    "    <h3> Carlos Tomas Molina Yugovic </h3>\n",
    "    <h3> 201273507-6 </h3>\n",
    "    <h3> carlos.molina.12@sansano.usm.cl</h3></center>\n",
    "</center>\n",
    "\n",
    "<p>\n",
    "<center>_Marzo 2018_ </center>\n",
    "</p>"
   ]
  },
  {
   "cell_type": "code",
   "execution_count": 403,
   "metadata": {
    "collapsed": true
   },
   "outputs": [],
   "source": [
    "%matplotlib inline\n",
    "import numpy as np\n",
    "import matplotlib.pyplot as plt\n",
    "import scipy.optimize as optimize\n",
    "from matplotlib import gridspec\n",
    "from ipywidgets import widgets,fixed\n",
    "from matplotlib.image import BboxImage\n",
    "from matplotlib.transforms import Bbox, TransformedBbox"
   ]
  },
  {
   "cell_type": "markdown",
   "metadata": {},
   "source": [
    "## Introducción"
   ]
  },
  {
   "cell_type": "markdown",
   "metadata": {},
   "source": [
    "Las raices de una función $f(x)$ se definen como los valores $r$ donde función es $0$, es decir $f(r)=0$. En otras palabras, encontrar las raices de $f(x)$ es equivalente a resolver la ecuación:\n",
    "\n",
    "$$\n",
    "f(r) = 0.\n",
    "$$"
   ]
  },
  {
   "cell_type": "markdown",
   "metadata": {},
   "source": [
    "Uno de los tantos problemas que podemos resolver a través de búsqueda de ceros es un típico problema de física, el lanzamiento de un proyectil. El contexto es el siguiente: Tenemos un cañón que dispara un proyectil con ciertos parámetros iniciales (rapidez y ángulo). Sabiendo estos datos, la pregunta es ¿Cómo encontramos la trayectoria recorrida por el proyectil dado el contexto del problema?. Para esto, contamos con dos ecuaciones importantes:\n",
    "\n",
    "\\begin{align}\n",
    "x(t) &= v\\,\\cos(\\theta)\\,t \\\\\n",
    "y(t) &= v\\,\\sin(\\theta)\\,t - \\frac{1}{2}\\,g\\,t^2\n",
    "\\end{align}"
   ]
  },
  {
   "cell_type": "markdown",
   "metadata": {},
   "source": [
    "## Pregunta 1 [10 puntos]"
   ]
  },
  {
   "cell_type": "markdown",
   "metadata": {},
   "source": [
    "a) Encuentre una expresión que acople estas dos ecuaciónes y que esta dependa de la posición $x$, el angulo $\\theta$ y la velocidad $v$.\n",
    "\n",
    "b) Usando la ecuación anterior, encuentre las expresiones para encontrar la distancia $d$ recorrida en el eje x por el proyectil, el angulo $\\theta$ de lanzamiento y la velocidad necesaría para que el proyectil recorra la distancia $d$."
   ]
  },
  {
   "cell_type": "markdown",
   "metadata": {},
   "source": [
    "## Desarrollo y Análisis de Resultados\n",
    "### a)\n",
    "Despejando t en la primera ecuación y reemplazandolo en la segunda, se tiene:\n",
    "$$y(t)=x\\cdot tan(\\theta)-\\frac{g\\cdot x^2}{2\\cdot v^2\\cdot cos^2(\\theta)}$$\n",
    "\n",
    "\n"
   ]
  },
  {
   "cell_type": "markdown",
   "metadata": {},
   "source": [
    "### b)\n",
    "Ya que se busca la distancia en el eje x, se reemplaza y=0 y se despeja x:\n",
    "$$d=\\frac{sen(\\theta)\\cdot cos(\\theta)\\cdot 2 \\cdot v^2}{g} $$\n"
   ]
  },
  {
   "cell_type": "markdown",
   "metadata": {},
   "source": [
    "Reemplazando la igualdad $$2\\cdot sen(\\theta)\\cdot cos(\\theta)=sen(2\\theta)$$ en la ecuación anterior, se obtiene:\n",
    "$$d=\\frac{sen(2\\theta)\\cdot v^2}{g}$$\n",
    "$$sen(2\\theta)=\\frac{d\\cdot g}{v^2}$$\n",
    "$$\\theta=\\frac{arcsin(\\frac{d\\cdot g}{v^2})}{2}$$"
   ]
  },
  {
   "cell_type": "markdown",
   "metadata": {},
   "source": [
    "Para calcular v, lo despejamos de la ecuación de distancia de x:\n",
    "$$v^2=\\frac{d\\cdot g}{sen(2\\theta)}$$\n",
    "$$v=\\sqrt{\\frac{d\\cdot g}{sen(2\\theta)}}$$"
   ]
  },
  {
   "cell_type": "markdown",
   "metadata": {},
   "source": [
    "## Pregunta 2  [20 puntos]"
   ]
  },
  {
   "cell_type": "markdown",
   "metadata": {},
   "source": [
    "Implemente los algoritmos de búsqueda de cero punto fijo, bisección y newton. Resuelva los siguientes casos:\n",
    "\n",
    "   * Usando $d = 900, \\theta = 20º$, encuentre el valor de $v$.\n",
    "   * Usando $d = 900, v = 100$, encuentre el valor de $\\theta$.\n",
    "   * Usando $v = 100, \\theta = 20º$, encuentre el valor de $d$.\n",
    "   \n",
    "a) Realice un gráfico por cada item donde se comparen el como se acerca cada método al valor real en cada iteración (usted define el número de iteraciones, pero recuerde que su resultado debe ser interpretable. Puede usar un bajo número de iteraciones, para que su resultado sea significativo dentro del contexto de búsqueda de ceros y los algoritmos involucrados). Muestre además, un gráfico de convergencia por cada item. Concluya.\n",
    "\n",
    "b) Muestre con un _widget_ la trayectoria del proyectil a través del tiempo. "
   ]
  },
  {
   "cell_type": "markdown",
   "metadata": {},
   "source": [
    "## Desarrollo y Análisis de Resultados\n",
    "### a)\n",
    "Se implementan los algoritmos del jupyter notebook del profesor [[1]](#bib), con algunos cambios, para responder a las preguntas de la tarea."
   ]
  },
  {
   "cell_type": "code",
   "execution_count": 404,
   "metadata": {},
   "outputs": [],
   "source": [
    "def bisect(f, a, b,realValue, tol=1e-10):\n",
    "    fa = f(a)\n",
    "    fb = f(b)\n",
    "    i = 0\n",
    "    # Just checking if the sign is not negative => not root  necessarily \n",
    "    if np.sign(f(a)*f(b)) >= 0:\n",
    "        print('f(a)f(b)<0 not satisfied!')\n",
    "        return None\n",
    "  \n",
    "    #Printing the evolution of the computation of the root\n",
    "    print(' i |     a     |     c     |     b     |     fa    |     fc     |     fb     |   b-a')\n",
    "    print('----------------------------------------------------------------------------------------')\n",
    "    values=[]\n",
    "    errors=[]\n",
    "    while(b-a)/2 > tol:\n",
    "        c = (a+b)/2.\n",
    "        fc = f(c)\n",
    "        print('%2d | %.7f | %.7f | %.7f | %.7f | %.7f | %.7f | %.7f' %\n",
    "              (i+1, a, c, b, fa, fc, fb, b-a))\n",
    "        # Did we find the root?\n",
    "        if fc == 0:\n",
    "            print('f(c)==0')\n",
    "            break\n",
    "        elif np.sign(fa*fc) < 0:\n",
    "            b = c\n",
    "            fb = fc\n",
    "        else:\n",
    "            a = c\n",
    "            fa = fc\n",
    "        i += 1\n",
    "        values.append(c)\n",
    "        errors.append(np.abs(c-realValue))\n",
    "    \n",
    "    values.append((a+b)/2)\n",
    "    errors.append(np.abs((a+b)/2-realValue))\n",
    "    return values,errors\n",
    "\n",
    "def fpi(g, x0, k,realValue):\n",
    "    x = np.empty(k+1)\n",
    "    x[0] = x0\n",
    "    error_i = np.inf\n",
    "    \n",
    "    print(' i |     x(i)     |    x(i+1)    ||x(i+1)-x(i)| | e_i/e_{i-1}')\n",
    "    print('--------------------------------------------------------------')\n",
    "    values=[]\n",
    "    values.append(x0)\n",
    "    errors=[]\n",
    "    errors.append(np.abs(realValue-x0))\n",
    "    for i in range(k):\n",
    "        x[i+1] = g(x[i])\n",
    "        values.append(x[i+1]);\n",
    "        errors.append(np.abs(realValue-x[i+1]))\n",
    "        error_iminus1 = error_i\n",
    "        error_i = abs(x[i+1]-x[i])\n",
    "        print('%2d | %.10f | %.10f | %.10f | %.10f' %\n",
    "              (i,x[i],x[i+1],error_i,error_i/error_iminus1))\n",
    "    return x,errors\n",
    "\n",
    "def newton_method(f, fp, x0, realValue,rel_error=1e-8, m=1):\n",
    "    #Initialization of hybrid error and absolute\n",
    "    hybrid_error = 100\n",
    "    error_i = np.inf\n",
    "    \n",
    "    print('i |     x(i)     |     x(i+1)   |      |x(i+1)-x(i)|     |  e_i/e_{i-1} | e_i/e_{i-1}^2')\n",
    "    print('----------------------------------------------------------------------------------------')\n",
    "    \n",
    "    values=[]\n",
    "    values.append(x0)\n",
    "    errors=[]\n",
    "    errors.append(np.abs(realValue-x0))\n",
    "    #Iteration counter\n",
    "    i = 1\n",
    "    while (hybrid_error > rel_error and hybrid_error < 1e12 and i < 1e4):\n",
    "        #Newton's iteration\n",
    "        x1 = x0-m*f(x0)/fp(x0)\n",
    "        #Checking if root was found\n",
    "        if f(x1) == 0.0:\n",
    "            hybrid_error = 0.0\n",
    "            break\n",
    "        \n",
    "        #Computation of hybrid error\n",
    "        hybrid_error = abs(x1-x0)/np.max([abs(x1),1e-12])\n",
    "        \n",
    "        #Computation of absolute error\n",
    "        error_iminus1 = error_i\n",
    "        error_i = abs(x1-x0)\n",
    "        \n",
    "        #Increasing counter\n",
    "        i += 1\n",
    "        \n",
    "        #Showing some info\n",
    "        print(\"%d | %.10f | %.10f | %.20f | %.10f | %.10f\" % \n",
    "              (i, x0, x1, error_i, error_i/error_iminus1, error_i/(error_iminus1**2)))\n",
    "        #Updating solution\n",
    "        x0 = x1\n",
    "        values.append(x1)\n",
    "        errors.append(np.abs(realValue-x1))\n",
    "    \n",
    "    #Checking if solution was obtained\n",
    "    if hybrid_error < rel_error: \n",
    "        return values,errors\n",
    "    elif i>=1e4:\n",
    "        print('Newton''s Method diverged. Too many iterations!!')\n",
    "        return [[],[]]\n",
    "    else:\n",
    "        print('Newton''s Method diverged!')\n",
    "        return [[],[]]"
   ]
  },
  {
   "cell_type": "markdown",
   "metadata": {},
   "source": [
    "### Caso 1"
   ]
  },
  {
   "cell_type": "markdown",
   "metadata": {},
   "source": [
    "A partir de las ecuaciones del item 1.b, se obtiene el valor teórico de v:\n",
    "$$v=\\sqrt{\\frac{d\\cdot g}{sen(2\\theta)}}$$\n",
    "\n",
    "$$v=\\sqrt{\\frac{900\\cdot 9.8}{sen(40)}}$$\n"
   ]
  },
  {
   "cell_type": "code",
   "execution_count": 405,
   "metadata": {},
   "outputs": [
    {
     "name": "stdout",
     "output_type": "stream",
     "text": [
      "117.138738908\n"
     ]
    }
   ],
   "source": [
    "g=9.8\n",
    "theta=np.radians(20)\n",
    "d=900;\n",
    "vReal=np.sqrt(d*g/np.sin(theta*2))\n",
    "print(vReal)"
   ]
  },
  {
   "cell_type": "markdown",
   "metadata": {},
   "source": [
    "$$v=117.138738908$$"
   ]
  },
  {
   "cell_type": "markdown",
   "metadata": {},
   "source": [
    "### Bisección\n",
    "Se elige como intervalo un número mayor y un número menor a v, como v=70 y v=200.\n",
    "Se tiene que la función a evaluar es:\n",
    "$$y=d\\cdot tan(\\theta) - \\frac{g\\cdot d^2}{2\\cdot v^2 \\cdot cos^2(\\theta)}$$"
   ]
  },
  {
   "cell_type": "markdown",
   "metadata": {},
   "source": [
    "Reemplazando las constantes:\n",
    "$$y=900\\cdot tan(20) - \\frac{9.8\\cdot 900^2}{2\\cdot v^2 \\cdot cos^2(20)}$$\n",
    "\n",
    "Luego se aplica el algoritmo de bisección sobre la función anterior, en el intervalo v=70 a v=200."
   ]
  },
  {
   "cell_type": "code",
   "execution_count": 406,
   "metadata": {
    "scrolled": true
   },
   "outputs": [
    {
     "name": "stdout",
     "output_type": "stream",
     "text": [
      " i |     a     |     c     |     b     |     fa    |     fc     |     fb     |   b-a\n",
      "----------------------------------------------------------------------------------------\n",
      " 1 | 70.0000000 | 135.0000000 | 200.0000000 | -589.7309976 | 80.9454675 | 215.2034453 | 130.0000000\n",
      " 2 | 70.0000000 | 102.5000000 | 135.0000000 | -589.7309976 | -100.2474313 | 80.9454675 | 65.0000000\n",
      " 3 | 102.5000000 | 118.7500000 | 135.0000000 | -100.2474313 | 8.8290560 | 80.9454675 | 32.5000000\n",
      " 4 | 102.5000000 | 110.6250000 | 118.7500000 | -100.2474313 | -39.7115410 | 8.8290560 | 16.2500000\n",
      " 5 | 110.6250000 | 114.6875000 | 118.7500000 | -39.7115410 | -14.1522156 | 8.8290560 | 8.1250000\n",
      " 6 | 114.6875000 | 116.7187500 | 118.7500000 | -14.1522156 | -2.3616537 | 8.8290560 | 4.0625000\n",
      " 7 | 116.7187500 | 117.7343750 | 118.7500000 | -2.3616537 | 3.3061011 | 8.8290560 | 2.0312500\n",
      " 8 | 116.7187500 | 117.2265625 | 117.7343750 | -2.3616537 | 0.4906376 | 3.3061011 | 1.0156250\n",
      " 9 | 116.7187500 | 116.9726562 | 117.2265625 | -2.3616537 | -0.9308646 | 0.4906376 | 0.5078125\n",
      "10 | 116.9726562 | 117.0996094 | 117.2265625 | -0.9308646 | -0.2189577 | 0.4906376 | 0.2539062\n",
      "11 | 117.0996094 | 117.1630859 | 117.2265625 | -0.2189577 | 0.1361283 | 0.4906376 | 0.1269531\n",
      "12 | 117.0996094 | 117.1313477 | 117.1630859 | -0.2189577 | -0.0413425 | 0.1361283 | 0.0634766\n",
      "13 | 117.1313477 | 117.1472168 | 117.1630859 | -0.0413425 | 0.0474109 | 0.1361283 | 0.0317383\n",
      "14 | 117.1313477 | 117.1392822 | 117.1472168 | -0.0413425 | 0.0030387 | 0.0474109 | 0.0158691\n",
      "15 | 117.1313477 | 117.1353149 | 117.1392822 | -0.0413425 | -0.0191508 | 0.0030387 | 0.0079346\n",
      "16 | 117.1353149 | 117.1372986 | 117.1392822 | -0.0191508 | -0.0080557 | 0.0030387 | 0.0039673\n",
      "17 | 117.1372986 | 117.1382904 | 117.1392822 | -0.0080557 | -0.0025084 | 0.0030387 | 0.0019836\n",
      "18 | 117.1382904 | 117.1387863 | 117.1392822 | -0.0025084 | 0.0002651 | 0.0030387 | 0.0009918\n",
      "19 | 117.1382904 | 117.1385384 | 117.1387863 | -0.0025084 | -0.0011216 | 0.0002651 | 0.0004959\n",
      "20 | 117.1385384 | 117.1386623 | 117.1387863 | -0.0011216 | -0.0004282 | 0.0002651 | 0.0002480\n",
      "21 | 117.1386623 | 117.1387243 | 117.1387863 | -0.0004282 | -0.0000815 | 0.0002651 | 0.0001240\n",
      "22 | 117.1387243 | 117.1387553 | 117.1387863 | -0.0000815 | 0.0000918 | 0.0002651 | 0.0000620\n",
      "23 | 117.1387243 | 117.1387398 | 117.1387553 | -0.0000815 | 0.0000051 | 0.0000918 | 0.0000310\n",
      "24 | 117.1387243 | 117.1387321 | 117.1387398 | -0.0000815 | -0.0000382 | 0.0000051 | 0.0000155\n",
      "25 | 117.1387321 | 117.1387359 | 117.1387398 | -0.0000382 | -0.0000165 | 0.0000051 | 0.0000077\n",
      "26 | 117.1387359 | 117.1387379 | 117.1387398 | -0.0000165 | -0.0000057 | 0.0000051 | 0.0000039\n",
      "27 | 117.1387379 | 117.1387389 | 117.1387398 | -0.0000057 | -0.0000003 | 0.0000051 | 0.0000019\n",
      "28 | 117.1387389 | 117.1387393 | 117.1387398 | -0.0000003 | 0.0000024 | 0.0000051 | 0.0000010\n",
      "29 | 117.1387389 | 117.1387391 | 117.1387393 | -0.0000003 | 0.0000011 | 0.0000024 | 0.0000005\n",
      "30 | 117.1387389 | 117.1387390 | 117.1387391 | -0.0000003 | 0.0000004 | 0.0000011 | 0.0000002\n",
      "31 | 117.1387389 | 117.1387389 | 117.1387390 | -0.0000003 | 0.0000000 | 0.0000004 | 0.0000001\n",
      "32 | 117.1387389 | 117.1387389 | 117.1387389 | -0.0000003 | -0.0000001 | 0.0000000 | 0.0000001\n",
      "33 | 117.1387389 | 117.1387389 | 117.1387389 | -0.0000001 | -0.0000000 | 0.0000000 | 0.0000000\n"
     ]
    }
   ],
   "source": [
    "f = lambda v: d*np.tan(theta)-g*d**2/2/v**2/np.cos(theta)**2\n",
    "valuesBisect,errorsBisect=bisect(f,70 , 200,vReal, tol=1e-8)"
   ]
  },
  {
   "cell_type": "markdown",
   "metadata": {},
   "source": [
    "Se observa como V converge a v=117.1387389, igual que el valor real v=117.138738908, excepto por los 2 dígitos menos de presición.\n",
    "### Punto Fijo"
   ]
  },
  {
   "cell_type": "markdown",
   "metadata": {},
   "source": [
    "Primero se transforma el problema de obtención de raiz, a problema de obtención de punto fijo, aplicando:\n",
    "$$g(x)=x-\\frac{f(x)}{f'(x)}$$\n",
    "Para\n",
    "$$f(v)=900\\cdot tan(20) - \\frac{9.8\\cdot 900^2}{2\\cdot v^2 \\cdot cos^2(20)}$$\n",
    "$$f'(v)=\\frac{9.8\\cdot 900^2}{v^3 \\cdot cos^2(20)}$$\n",
    "Reemplazando f y f' en g, se obtiene que:\n",
    "$$g(v)=\\frac{3}{2}\\cdot v - \\frac{sen(2\\theta)}{2\\cdot g\\cdot d}\\cdot v^3$$\n",
    "Luego se aplica el algoritmo de punto fijo, con valor inicial $v_0=100$."
   ]
  },
  {
   "cell_type": "code",
   "execution_count": 407,
   "metadata": {
    "scrolled": true
   },
   "outputs": [
    {
     "name": "stdout",
     "output_type": "stream",
     "text": [
      " i |     x(i)     |    x(i+1)    ||x(i+1)-x(i)| | e_i/e_{i-1}\n",
      "--------------------------------------------------------------\n",
      " 0 | 100.0000000000 | 113.5607931017 | 13.5607931017 | 0.0000000000\n",
      " 1 | 113.5607931017 | 116.9764780394 | 3.4156849378 | 0.2518794374\n",
      " 2 | 116.9764780394 | 117.1384019172 | 0.1619238778 | 0.0474059759\n",
      " 3 | 117.1384019172 | 117.1387389063 | 0.0003369891 | 0.0020811576\n",
      " 4 | 117.1387389063 | 117.1387389078 | 0.0000000015 | 0.0000043153\n",
      " 5 | 117.1387389078 | 117.1387389078 | 0.0000000000 | 0.0000000000\n",
      " 6 | 117.1387389078 | 117.1387389078 | 0.0000000000 | nan\n",
      " 7 | 117.1387389078 | 117.1387389078 | 0.0000000000 | nan\n",
      " 8 | 117.1387389078 | 117.1387389078 | 0.0000000000 | nan\n",
      " 9 | 117.1387389078 | 117.1387389078 | 0.0000000000 | nan\n",
      "10 | 117.1387389078 | 117.1387389078 | 0.0000000000 | nan\n",
      "11 | 117.1387389078 | 117.1387389078 | 0.0000000000 | nan\n",
      "12 | 117.1387389078 | 117.1387389078 | 0.0000000000 | nan\n",
      "13 | 117.1387389078 | 117.1387389078 | 0.0000000000 | nan\n",
      "14 | 117.1387389078 | 117.1387389078 | 0.0000000000 | nan\n",
      "15 | 117.1387389078 | 117.1387389078 | 0.0000000000 | nan\n",
      "16 | 117.1387389078 | 117.1387389078 | 0.0000000000 | nan\n",
      "17 | 117.1387389078 | 117.1387389078 | 0.0000000000 | nan\n",
      "18 | 117.1387389078 | 117.1387389078 | 0.0000000000 | nan\n",
      "19 | 117.1387389078 | 117.1387389078 | 0.0000000000 | nan\n"
     ]
    },
    {
     "name": "stderr",
     "output_type": "stream",
     "text": [
      "/Users/carlos/anaconda3/lib/python3.6/site-packages/ipykernel_launcher.py:56: RuntimeWarning: invalid value encountered in double_scalars\n"
     ]
    }
   ],
   "source": [
    "f2 = lambda v: 3/2*v-np.sin(2*theta)/2/g/d*v**3\n",
    "valuesFpi,errorsFpi=fpi(f2, 100, 20,vReal)"
   ]
  },
  {
   "cell_type": "markdown",
   "metadata": {},
   "source": [
    "Se observa que V converge a v=117.1387389078, igual que el valor real v=117.138738908, pero con un dígito más de presición.\n"
   ]
  },
  {
   "cell_type": "markdown",
   "metadata": {},
   "source": [
    "### Newton\n",
    "Se tiene que:\n",
    "$$f(v)=900\\cdot tan(20) - \\frac{9.8\\cdot 900^2}{2\\cdot v^2 \\cdot cos^2(20)}$$\n",
    "$$f'(v)=\\frac{9.8\\cdot 900^2}{v^3 \\cdot cos^2(20)}$$\n",
    "Luego se aplica el algoritmo del método de newton, con valor inicial $x_0=100$."
   ]
  },
  {
   "cell_type": "code",
   "execution_count": 408,
   "metadata": {},
   "outputs": [
    {
     "name": "stdout",
     "output_type": "stream",
     "text": [
      "i |     x(i)     |     x(i+1)   |      |x(i+1)-x(i)|     |  e_i/e_{i-1} | e_i/e_{i-1}^2\n",
      "----------------------------------------------------------------------------------------\n",
      "2 | 100.0000000000 | 113.5607931017 | 13.56079310167011442445 | 0.0000000000 | 0.0000000000\n",
      "3 | 113.5607931017 | 116.9764780394 | 3.41568493775120884948 | 0.2518794374 | 0.0185740934\n",
      "4 | 116.9764780394 | 117.1384019172 | 0.16192387781764239207 | 0.0474059759 | 0.0138789077\n",
      "5 | 117.1384019172 | 117.1387389063 | 0.00033698910299051477 | 0.0020811576 | 0.0128526910\n",
      "6 | 117.1387389063 | 117.1387389078 | 0.00000000145419676301 | 0.0000043153 | 0.0128053502\n"
     ]
    }
   ],
   "source": [
    "f = lambda v: d*np.tan(theta)-g*d**2/2/v**2/np.cos(theta)**2\n",
    "df = lambda v: g*d**2/v**3/np.cos(theta)**2\n",
    "\n",
    "valuesNewton,errorsNewton=newton_method(f, df, 100, vReal, rel_error=1e-10, m=1)"
   ]
  },
  {
   "cell_type": "markdown",
   "metadata": {},
   "source": [
    "Se observa como V converge a v=117.1387389063, similar al valor real v=117.138738908, con un poco menos de precisión."
   ]
  },
  {
   "cell_type": "markdown",
   "metadata": {},
   "source": [
    "### Gráficos"
   ]
  },
  {
   "cell_type": "code",
   "execution_count": 409,
   "metadata": {},
   "outputs": [
    {
     "data": {
      "image/png": "[encoded data removed]",
      "text/plain": [
       "<matplotlib.figure.Figure at 0x113874ef0>"
      ]
     },
     "metadata": {},
     "output_type": "display_data"
    }
   ],
   "source": [
    "plt.plot(valuesBisect,label='Bisección')\n",
    "plt.plot(valuesFpi,label='Punto Fijo')\n",
    "plt.plot(valuesNewton,label='Newton')\n",
    "plt.axhline(y=117.138738908,linestyle=\"--\",color=\"r\",label='Valor Real')\n",
    "plt.legend()\n",
    "plt.title('Caso 1, Gráfico de acercamiento al valor real')\n",
    "plt.show()"
   ]
  },
  {
   "cell_type": "markdown",
   "metadata": {},
   "source": [
    "Cabe destacar que punto fijo se superpone con newton, debido a que se usó el mismo valor inicial en ambos casos, y los algoritmos son similares. Bisección muestra un comportamiento más errático que los otros algoritmos, ya que va saltando entre mitades."
   ]
  },
  {
   "cell_type": "code",
   "execution_count": 410,
   "metadata": {},
   "outputs": [
    {
     "data": {
      "image/png": "[encoded data removed]",
      "text/plain": [
       "<matplotlib.figure.Figure at 0x1147f9b00>"
      ]
     },
     "metadata": {},
     "output_type": "display_data"
    }
   ],
   "source": [
    "plt.plot(errorsBisect,label='Bisección')\n",
    "plt.plot(errorsFpi,label='Punto Fijo')\n",
    "plt.plot(errorsNewton,label='Newton')\n",
    "plt.legend()\n",
    "plt.title('Caso 1, Gráfico de Error Absoluto')\n",
    "plt.show()"
   ]
  },
  {
   "cell_type": "markdown",
   "metadata": {},
   "source": [
    "Nuevamente newton y punto fijo se superponen, mientras que bisección tiene errores mayores en las primeras iteraciones."
   ]
  },
  {
   "cell_type": "markdown",
   "metadata": {},
   "source": [
    "### Caso 2"
   ]
  },
  {
   "cell_type": "markdown",
   "metadata": {},
   "source": [
    "A partir de las ecuaciones del item 1.b, se obtiene el valor teórico de $\\theta$:\n",
    "\n",
    "$$\\theta=\\frac{arcsin(\\frac{d\\cdot g}{v^2})}{2}$$\n",
    "\n",
    "$$\\theta=\\frac{arcsin(\\frac{900\\cdot 9.8}{100^2})}{2}$$\n"
   ]
  },
  {
   "cell_type": "code",
   "execution_count": 411,
   "metadata": {},
   "outputs": [
    {
     "name": "stdout",
     "output_type": "stream",
     "text": [
      "0.540044763537\n"
     ]
    }
   ],
   "source": [
    "g=9.8\n",
    "v=100\n",
    "d=900;\n",
    "thetaReal=np.arcsin(d*g/v**2)/2\n",
    "print(thetaReal)"
   ]
  },
  {
   "cell_type": "markdown",
   "metadata": {},
   "source": [
    "$$\\theta=0.540044763537$$"
   ]
  },
  {
   "cell_type": "markdown",
   "metadata": {},
   "source": [
    "### Bisección\n",
    "Se elige como intervalo un número mayor y un número menor a v, como v=0.2 y v=0.8.\n",
    "Se tiene que la función a evaluar es:\n",
    "$$y=d\\cdot tan(\\theta) - \\frac{g\\cdot d^2}{2\\cdot v^2 \\cdot cos^2(\\theta)}$$"
   ]
  },
  {
   "cell_type": "markdown",
   "metadata": {},
   "source": [
    "Reemplazando las constantes:\n",
    "$$y=900\\cdot tan(\\theta) - \\frac{9.8\\cdot 900^2}{2\\cdot 100^2 \\cdot cos^2(\\theta)}$$\n",
    "\n",
    "Luego se aplica el algoritmo de bisección sobre la función anterior, en el intervalo $\\theta=0.2$ a $\\theta=0.8$."
   ]
  },
  {
   "cell_type": "code",
   "execution_count": 412,
   "metadata": {
    "scrolled": true
   },
   "outputs": [
    {
     "name": "stdout",
     "output_type": "stream",
     "text": [
      " i |     a     |     c     |     b     |     fa    |     fc     |     fb     |   b-a\n",
      "----------------------------------------------------------------------------------------\n",
      " 1 | 0.2000000 | 0.5000000 | 0.8000000 | -230.7701282 | -23.6811394 | 108.9989603 | 0.6000000\n",
      " 2 | 0.5000000 | 0.6500000 | 0.8000000 | -23.6811394 | 57.9111911 | 108.9989603 | 0.3000000\n",
      " 3 | 0.5000000 | 0.5750000 | 0.6500000 | -23.6811394 | 19.6576451 | 57.9111911 | 0.1500000\n",
      " 4 | 0.5000000 | 0.5375000 | 0.5750000 | -23.6811394 | -1.4696871 | 19.6576451 | 0.0750000\n",
      " 5 | 0.5375000 | 0.5562500 | 0.5750000 | -1.4696871 | 9.2391794 | 19.6576451 | 0.0375000\n",
      " 6 | 0.5375000 | 0.5468750 | 0.5562500 | -1.4696871 | 3.9197261 | 9.2391794 | 0.0187500\n",
      " 7 | 0.5375000 | 0.5421875 | 0.5468750 | -1.4696871 | 1.2336095 | 3.9197261 | 0.0093750\n",
      " 8 | 0.5375000 | 0.5398437 | 0.5421875 | -1.4696871 | -0.1159100 | 1.2336095 | 0.0046875\n",
      " 9 | 0.5398437 | 0.5410156 | 0.5421875 | -0.1159100 | 0.5593843 | 1.2336095 | 0.0023438\n",
      "10 | 0.5398437 | 0.5404297 | 0.5410156 | -0.1159100 | 0.2218704 | 0.5593843 | 0.0011719\n",
      "11 | 0.5398437 | 0.5401367 | 0.5404297 | -0.1159100 | 0.0530135 | 0.2218704 | 0.0005859\n",
      "12 | 0.5398437 | 0.5399902 | 0.5401367 | -0.1159100 | -0.0314399 | 0.0530135 | 0.0002930\n",
      "13 | 0.5399902 | 0.5400635 | 0.5401367 | -0.0314399 | 0.0107889 | 0.0530135 | 0.0001465\n",
      "14 | 0.5399902 | 0.5400269 | 0.5400635 | -0.0314399 | -0.0103250 | 0.0107889 | 0.0000732\n",
      "15 | 0.5400269 | 0.5400452 | 0.5400635 | -0.0103250 | 0.0002320 | 0.0107889 | 0.0000366\n",
      "16 | 0.5400269 | 0.5400360 | 0.5400452 | -0.0103250 | -0.0050465 | 0.0002320 | 0.0000183\n",
      "17 | 0.5400360 | 0.5400406 | 0.5400452 | -0.0050465 | -0.0024072 | 0.0002320 | 0.0000092\n",
      "18 | 0.5400406 | 0.5400429 | 0.5400452 | -0.0024072 | -0.0010876 | 0.0002320 | 0.0000046\n",
      "19 | 0.5400429 | 0.5400440 | 0.5400452 | -0.0010876 | -0.0004278 | 0.0002320 | 0.0000023\n",
      "20 | 0.5400440 | 0.5400446 | 0.5400452 | -0.0004278 | -0.0000979 | 0.0002320 | 0.0000011\n",
      "21 | 0.5400446 | 0.5400449 | 0.5400452 | -0.0000979 | 0.0000671 | 0.0002320 | 0.0000006\n",
      "22 | 0.5400446 | 0.5400447 | 0.5400449 | -0.0000979 | -0.0000154 | 0.0000671 | 0.0000003\n",
      "23 | 0.5400447 | 0.5400448 | 0.5400449 | -0.0000154 | 0.0000259 | 0.0000671 | 0.0000001\n",
      "24 | 0.5400447 | 0.5400448 | 0.5400448 | -0.0000154 | 0.0000052 | 0.0000259 | 0.0000001\n",
      "25 | 0.5400447 | 0.5400448 | 0.5400448 | -0.0000154 | -0.0000051 | 0.0000052 | 0.0000000\n"
     ]
    }
   ],
   "source": [
    "f = lambda theta: d*np.tan(theta)-g*d**2/2/v**2/np.cos(theta)**2\n",
    "valuesBisect,errorsBisect=bisect(f,0.2 , 0.8,thetaReal, tol=1e-8)"
   ]
  },
  {
   "cell_type": "markdown",
   "metadata": {},
   "source": [
    "Se observa como V converge a v=0.5400447.\n",
    "### Punto Fijo"
   ]
  },
  {
   "cell_type": "markdown",
   "metadata": {},
   "source": [
    "Primero se transforma el problema de obtención de raiz, a problema de obtención de punto fijo, aplicando:\n",
    "$$g(x)=x-\\frac{f(x)}{f'(x)}$$\n",
    "Para\n",
    "$$f(\\theta)=900\\cdot tan(\\theta) - \\frac{9.8\\cdot 900^2}{2\\cdot 100^2 \\cdot cos^2(\\theta)}$$\n",
    "$$f'(\\theta)=sec^2(\\theta)\\cdot (900-tan(\\theta)\\cdot \\frac{9.8\\cdot 900^2}{100^2})$$\n",
    "Reemplazando f y f' en g, se obtiene que:\n",
    "$$g(\\theta)=\\theta - \\frac{900\\cdot tan(\\theta) - \\frac{9.8\\cdot 900^2}{2\\cdot 100^2 \\cdot cos^2(\\theta)}}{sec^2(\\theta)\\cdot (900-tan(\\theta)\\cdot \\frac{9.8\\cdot 900^2}{100^2})}$$\n",
    "Luego se aplica el algoritmo de punto fijo, con valor inicial $\\theta_0=30º$."
   ]
  },
  {
   "cell_type": "code",
   "execution_count": 413,
   "metadata": {},
   "outputs": [
    {
     "name": "stdout",
     "output_type": "stream",
     "text": [
      " i |     x(i)     |    x(i+1)    ||x(i+1)-x(i)| | e_i/e_{i-1}\n",
      "--------------------------------------------------------------\n",
      " 0 | 0.5235987756 | 0.5423912949 | 0.0187925193 | 0.0000000000\n",
      " 1 | 0.5423912949 | 0.5396471825 | 0.0027441124 | 0.1460215303\n",
      " 2 | 0.5396471825 | 0.5401104993 | 0.0004633168 | 0.1688403262\n",
      " 3 | 0.5401104993 | 0.5400338497 | 0.0000766496 | 0.1654367222\n",
      " 4 | 0.5400338497 | 0.5400465743 | 0.0000127246 | 0.1660096404\n",
      " 5 | 0.5400465743 | 0.5400444631 | 0.0000021112 | 0.1659148098\n",
      " 6 | 0.5400444631 | 0.5400448134 | 0.0000003503 | 0.1659305513\n",
      " 7 | 0.5400448134 | 0.5400447553 | 0.0000000581 | 0.1659279400\n",
      " 8 | 0.5400447553 | 0.5400447649 | 0.0000000096 | 0.1659283786\n",
      " 9 | 0.5400447649 | 0.5400447633 | 0.0000000016 | 0.1659283474\n",
      "10 | 0.5400447633 | 0.5400447636 | 0.0000000003 | 0.1659284153\n",
      "11 | 0.5400447636 | 0.5400447635 | 0.0000000000 | 0.1659281037\n",
      "12 | 0.5400447635 | 0.5400447635 | 0.0000000000 | 0.1659317456\n",
      "13 | 0.5400447635 | 0.5400447635 | 0.0000000000 | 0.1659453632\n",
      "14 | 0.5400447635 | 0.5400447635 | 0.0000000000 | 0.1658125915\n",
      "15 | 0.5400447635 | 0.5400447635 | 0.0000000000 | 0.1655629139\n",
      "16 | 0.5400447635 | 0.5400447635 | 0.0000000000 | 0.1666666667\n",
      "17 | 0.5400447635 | 0.5400447635 | 0.0000000000 | 0.2000000000\n",
      "18 | 0.5400447635 | 0.5400447635 | 0.0000000000 | 0.4000000000\n",
      "19 | 0.5400447635 | 0.5400447635 | 0.0000000000 | 0.0000000000\n"
     ]
    }
   ],
   "source": [
    "ft=lambda t:d*np.tan(t)-g*d**2/2/v**2/np.cos(t)**2\n",
    "dft=lambda t:1/np.cos(t)*(d-np.tan(t)*g*d**2/v**2)\n",
    "f2 = lambda t: t-ft(t)/dft(t)\n",
    "valuesFpi,errorsFpi=fpi(f2, np.radians(30), 20,thetaReal)"
   ]
  },
  {
   "cell_type": "markdown",
   "metadata": {},
   "source": [
    "Se observa que $\\theta$  converge a $\\theta=0.5400447635$."
   ]
  },
  {
   "cell_type": "markdown",
   "metadata": {},
   "source": [
    "### Newton\n",
    "Se tiene que:\n",
    "$$f(\\theta)=900\\cdot tan(\\theta) - \\frac{9.8\\cdot 900^2}{2\\cdot 100^2 \\cdot cos^2(\\theta)}$$\n",
    "$$f'(\\theta)=sec^2(\\theta)\\cdot (900-tan(\\theta)\\cdot \\frac{9.8\\cdot 900^2}{100^2})$$\n",
    "Luego se aplica el algoritmo del método de newton, con valor inicial $x_0=100$."
   ]
  },
  {
   "cell_type": "code",
   "execution_count": 414,
   "metadata": {},
   "outputs": [
    {
     "name": "stdout",
     "output_type": "stream",
     "text": [
      "i |     x(i)     |     x(i+1)   |      |x(i+1)-x(i)|     |  e_i/e_{i-1} | e_i/e_{i-1}^2\n",
      "----------------------------------------------------------------------------------------\n",
      "2 | 0.5235987756 | 0.5423912949 | 0.01879251930981429286 | 0.0000000000 | 0.0000000000\n",
      "3 | 0.5423912949 | 0.5396471825 | 0.00274411242687211399 | 0.1460215303 | 7.7701945036\n",
      "4 | 0.5396471825 | 0.5401104993 | 0.00046331683725830963 | 0.1688403262 | 61.5282101920\n",
      "5 | 0.5401104993 | 0.5400338497 | 0.00007664961889941591 | 0.1654367222 | 357.0703866196\n",
      "6 | 0.5400338497 | 0.5400465743 | 0.00001272457566703356 | 0.1660096404 | 2165.8247326105\n",
      "7 | 0.5400465743 | 0.5400444631 | 0.00000211119555115769 | 0.1659148098 | 13038.9267279485\n",
      "8 | 0.5400444631 | 0.5400448134 | 0.00000035031184175693 | 0.1659305513 | 78595.5385484201\n",
      "9 | 0.5400448134 | 0.5400447553 | 0.00000005812652226211 | 0.1659279400 | 473657.8106320812\n",
      "10 | 0.5400447553 | 0.5400447649 | 0.00000000964483959365 | 0.1659283786 | 2854607.0220686863\n",
      "11 | 0.5400447649 | 0.5400447633 | 0.00000000160035229513 | 0.1659283474 | 17203847.2835163623\n",
      "12 | 0.5400447633 | 0.5400447636 | 0.00000000026554392019 | 0.1659284153 | 103682430.2771855146\n",
      "13 | 0.5400447636 | 0.5400447635 | 0.00000000004406119913 | 0.1659281037 | 624861241.8411878347\n"
     ]
    }
   ],
   "source": [
    "f=lambda t:d*np.tan(t)-g*d**2/2/v**2/np.cos(t)**2\n",
    "df=lambda t:1/np.cos(t)*(d-np.tan(t)*g*d**2/v**2)\n",
    "\n",
    "valuesNewton,errorsNewton=newton_method(f, df, np.radians(30), thetaReal, rel_error=1e-10, m=1)"
   ]
  },
  {
   "cell_type": "markdown",
   "metadata": {},
   "source": [
    "Se observa que $\\theta$  converge a $\\theta=0.5400447636$."
   ]
  },
  {
   "cell_type": "markdown",
   "metadata": {},
   "source": [
    "### Gráficos"
   ]
  },
  {
   "cell_type": "code",
   "execution_count": 415,
   "metadata": {},
   "outputs": [
    {
     "data": {
      "image/png": "[encoded data removed]",
      "text/plain": [
       "<matplotlib.figure.Figure at 0x1138da8d0>"
      ]
     },
     "metadata": {},
     "output_type": "display_data"
    }
   ],
   "source": [
    "plt.plot(valuesBisect,label='Bisección')\n",
    "plt.plot(valuesFpi,label='Punto Fijo')\n",
    "plt.plot(valuesNewton,label='Newton')\n",
    "plt.axhline(y=0.5400447636,linestyle=\"--\",color=\"r\",label='Valor Real')\n",
    "plt.legend()\n",
    "plt.title('Caso 2, Gráfico de acercamiento al valor real')\n",
    "plt.show()"
   ]
  },
  {
   "cell_type": "markdown",
   "metadata": {},
   "source": [
    "Cabe destacar que punto fijo se superpone con newton, debido a que se usó el mismo valor inicial en ambos casos, y los algoritmos son similares. Bisección muestra un comportamiento más errático que los otros algoritmos, ya que va saltando entre mitades."
   ]
  },
  {
   "cell_type": "code",
   "execution_count": 416,
   "metadata": {},
   "outputs": [
    {
     "data": {
      "image/png": "[encoded data removed]",
      "text/plain": [
       "<matplotlib.figure.Figure at 0x113fea898>"
      ]
     },
     "metadata": {},
     "output_type": "display_data"
    }
   ],
   "source": [
    "plt.plot(errorsBisect,label='Bisección')\n",
    "plt.plot(errorsFpi,label='Punto Fijo')\n",
    "plt.plot(errorsNewton,label='Newton')\n",
    "plt.legend()\n",
    "plt.title('Caso 2, Gráfico de Error Absoluto')\n",
    "plt.show()"
   ]
  },
  {
   "cell_type": "markdown",
   "metadata": {},
   "source": [
    "Nuevamente newton y punto fijo se superponen, mientras que bisección tiene errores mayores en las primeras iteraciones."
   ]
  },
  {
   "cell_type": "markdown",
   "metadata": {},
   "source": [
    "### Caso 3"
   ]
  },
  {
   "cell_type": "markdown",
   "metadata": {},
   "source": [
    "A partir de las ecuaciones del item 1.b, se obtiene el valor teórico de v:\n",
    "$$d=\\frac{sen(\\theta)\\cdot cos(\\theta)\\cdot 2 \\cdot v^2}{g} $$\n",
    "\n",
    "$$d=\\frac{sen(20)\\cdot cos(20)\\cdot 2 \\cdot 100^2}{9.8} $$\n"
   ]
  },
  {
   "cell_type": "code",
   "execution_count": 417,
   "metadata": {},
   "outputs": [
    {
     "name": "stdout",
     "output_type": "stream",
     "text": [
      "655.90572417\n"
     ]
    }
   ],
   "source": [
    "g=9.8\n",
    "theta=np.radians(20)\n",
    "v=100;\n",
    "dReal=np.sin(2*theta)*v**2/g\n",
    "print(dReal)"
   ]
  },
  {
   "cell_type": "markdown",
   "metadata": {},
   "source": [
    "$$d=655.90572417$$"
   ]
  },
  {
   "cell_type": "markdown",
   "metadata": {},
   "source": [
    "### Bisección\n",
    "Se elige como intervalo un número mayor y un número menor a v, como v=550 y v=750.\n",
    "Se tiene que la función a evaluar es:\n",
    "$$y=d\\cdot tan(\\theta) - \\frac{g\\cdot d^2}{2\\cdot v^2 \\cdot cos^2(\\theta)}$$"
   ]
  },
  {
   "cell_type": "markdown",
   "metadata": {},
   "source": [
    "Reemplazando las constantes:\n",
    "$$y=d\\cdot tan(20) - \\frac{9.8\\cdot d^2}{2\\cdot 100^2 \\cdot cos^2(20)}$$\n",
    "\n",
    "Luego se aplica el algoritmo de bisección sobre la función anterior, en el intervalo d=550 a d=750."
   ]
  },
  {
   "cell_type": "code",
   "execution_count": 418,
   "metadata": {
    "scrolled": true
   },
   "outputs": [
    {
     "name": "stdout",
     "output_type": "stream",
     "text": [
      " i |     a     |     c     |     b     |     fa    |     fc     |     fb     |   b-a\n",
      "----------------------------------------------------------------------------------------\n",
      " 1 | 550.0000000 | 650.0000000 | 750.0000000 | 32.3226211 | 2.1301538 | -39.1605619 | 200.0000000\n",
      " 2 | 650.0000000 | 700.0000000 | 750.0000000 | 2.1301538 | -17.1279230 | -39.1605619 | 100.0000000\n",
      " 3 | 650.0000000 | 675.0000000 | 700.0000000 | 2.1301538 | -7.1520643 | -17.1279230 | 50.0000000\n",
      " 4 | 650.0000000 | 662.5000000 | 675.0000000 | 2.1301538 | -2.4242502 | -7.1520643 | 25.0000000\n",
      " 5 | 650.0000000 | 656.2500000 | 662.5000000 | 2.1301538 | -0.1253719 | -2.4242502 | 12.5000000\n",
      " 6 | 650.0000000 | 653.1250000 | 656.2500000 | 2.1301538 | 1.0078100 | -0.1253719 | 6.2500000\n",
      " 7 | 653.1250000 | 654.6875000 | 656.2500000 | 1.0078100 | 0.4425738 | -0.1253719 | 3.1250000\n",
      " 8 | 654.6875000 | 655.4687500 | 656.2500000 | 0.4425738 | 0.1589396 | -0.1253719 | 1.5625000\n",
      " 9 | 655.4687500 | 655.8593750 | 656.2500000 | 0.1589396 | 0.0168685 | -0.1253719 | 0.7812500\n",
      "10 | 655.8593750 | 656.0546875 | 656.2500000 | 0.0168685 | -0.0542305 | -0.1253719 | 0.3906250\n",
      "11 | 655.8593750 | 655.9570312 | 656.0546875 | 0.0168685 | -0.0186757 | -0.0542305 | 0.1953125\n",
      "12 | 655.8593750 | 655.9082031 | 655.9570312 | 0.0168685 | -0.0009023 | -0.0186757 | 0.0976562\n",
      "13 | 655.8593750 | 655.8837891 | 655.9082031 | 0.0168685 | 0.0079835 | -0.0009023 | 0.0488281\n",
      "14 | 655.8837891 | 655.8959961 | 655.9082031 | 0.0079835 | 0.0035407 | -0.0009023 | 0.0244141\n",
      "15 | 655.8959961 | 655.9020996 | 655.9082031 | 0.0035407 | 0.0013192 | -0.0009023 | 0.0122070\n",
      "16 | 655.9020996 | 655.9051514 | 655.9082031 | 0.0013192 | 0.0002085 | -0.0009023 | 0.0061035\n",
      "17 | 655.9051514 | 655.9066772 | 655.9082031 | 0.0002085 | -0.0003469 | -0.0009023 | 0.0030518\n",
      "18 | 655.9051514 | 655.9059143 | 655.9066772 | 0.0002085 | -0.0000692 | -0.0003469 | 0.0015259\n",
      "19 | 655.9051514 | 655.9055328 | 655.9059143 | 0.0002085 | 0.0000696 | -0.0000692 | 0.0007629\n",
      "20 | 655.9055328 | 655.9057236 | 655.9059143 | 0.0000696 | 0.0000002 | -0.0000692 | 0.0003815\n",
      "21 | 655.9057236 | 655.9058189 | 655.9059143 | 0.0000002 | -0.0000345 | -0.0000692 | 0.0001907\n",
      "22 | 655.9057236 | 655.9057713 | 655.9058189 | 0.0000002 | -0.0000171 | -0.0000345 | 0.0000954\n",
      "23 | 655.9057236 | 655.9057474 | 655.9057713 | 0.0000002 | -0.0000085 | -0.0000171 | 0.0000477\n",
      "24 | 655.9057236 | 655.9057355 | 655.9057474 | 0.0000002 | -0.0000041 | -0.0000085 | 0.0000238\n",
      "25 | 655.9057236 | 655.9057295 | 655.9057355 | 0.0000002 | -0.0000020 | -0.0000041 | 0.0000119\n",
      "26 | 655.9057236 | 655.9057266 | 655.9057295 | 0.0000002 | -0.0000009 | -0.0000020 | 0.0000060\n",
      "27 | 655.9057236 | 655.9057251 | 655.9057266 | 0.0000002 | -0.0000003 | -0.0000009 | 0.0000030\n",
      "28 | 655.9057236 | 655.9057243 | 655.9057251 | 0.0000002 | -0.0000001 | -0.0000003 | 0.0000015\n",
      "29 | 655.9057236 | 655.9057239 | 655.9057243 | 0.0000002 | 0.0000001 | -0.0000001 | 0.0000007\n",
      "30 | 655.9057239 | 655.9057241 | 655.9057243 | 0.0000001 | 0.0000000 | -0.0000001 | 0.0000004\n",
      "31 | 655.9057241 | 655.9057242 | 655.9057243 | 0.0000000 | -0.0000000 | -0.0000001 | 0.0000002\n",
      "32 | 655.9057241 | 655.9057242 | 655.9057242 | 0.0000000 | -0.0000000 | -0.0000000 | 0.0000001\n",
      "33 | 655.9057241 | 655.9057242 | 655.9057242 | 0.0000000 | 0.0000000 | -0.0000000 | 0.0000000\n",
      "34 | 655.9057242 | 655.9057242 | 655.9057242 | 0.0000000 | 0.0000000 | -0.0000000 | 0.0000000\n"
     ]
    }
   ],
   "source": [
    "f = lambda d: d*np.tan(theta)-g*d**2/2/v**2/np.cos(theta)**2\n",
    "valuesBisect,errorsBisect=bisect(f,550 , 750,dReal, tol=1e-8)"
   ]
  },
  {
   "cell_type": "markdown",
   "metadata": {},
   "source": [
    "Se observa como d converge a d=655.9057242.\n",
    "### Punto Fijo"
   ]
  },
  {
   "cell_type": "markdown",
   "metadata": {},
   "source": [
    "Primero se transforma el problema de obtención de raiz, a problema de obtención de punto fijo, aplicando:\n",
    "$$g(x)=x-\\frac{f(x)}{f'(x)}$$\n",
    "Para\n",
    "$$f(v)=d\\cdot tan(20) - \\frac{9.8\\cdot d^2}{2\\cdot 100^2 \\cdot cos^2(20)}$$\n",
    "$$f'(v)=tan(20) - \\frac{9.8\\cdot d}{100^2 \\cdot cos^2(20)}$$\n",
    "Reemplazando f y f' en g, se obtiene que:\n",
    "$$g(v)=d-\\frac{d\\cdot tan(20) - \\frac{9.8\\cdot d^2}{2\\cdot 100^2 \\cdot cos^2(20)}}{tan(20) - \\frac{9.8\\cdot d}{100^2 \\cdot cos^2(20)}}$$\n",
    "Luego se aplica el algoritmo de punto fijo, con valor inicial $d_0=500$."
   ]
  },
  {
   "cell_type": "code",
   "execution_count": 419,
   "metadata": {
    "scrolled": true
   },
   "outputs": [
    {
     "name": "stdout",
     "output_type": "stream",
     "text": [
      " i |     x(i)     |    x(i+1)    ||x(i+1)-x(i)| | e_i/e_{i-1}\n",
      "--------------------------------------------------------------\n",
      " 0 | 500.0000000000 | 726.5450708150 | 226.5450708150 | 0.0000000000\n",
      " 1 | 726.5450708150 | 662.1651507031 | 64.3799201120 | 0.2841815091\n",
      " 2 | 662.1651507031 | 655.9643402380 | 6.2008104651 | 0.0963159080\n",
      " 3 | 655.9643402380 | 655.9057294073 | 0.0586108307 | 0.0094521242\n",
      " 4 | 655.9057294073 | 655.9057241699 | 0.0000052374 | 0.0000893586\n",
      " 5 | 655.9057241699 | 655.9057241699 | 0.0000000000 | 0.0000000217\n",
      " 6 | 655.9057241699 | 655.9057241699 | 0.0000000000 | 1.0000000000\n",
      " 7 | 655.9057241699 | 655.9057241699 | 0.0000000000 | 1.0000000000\n",
      " 8 | 655.9057241699 | 655.9057241699 | 0.0000000000 | 1.0000000000\n",
      " 9 | 655.9057241699 | 655.9057241699 | 0.0000000000 | 1.0000000000\n",
      "10 | 655.9057241699 | 655.9057241699 | 0.0000000000 | 1.0000000000\n",
      "11 | 655.9057241699 | 655.9057241699 | 0.0000000000 | 1.0000000000\n",
      "12 | 655.9057241699 | 655.9057241699 | 0.0000000000 | 1.0000000000\n",
      "13 | 655.9057241699 | 655.9057241699 | 0.0000000000 | 1.0000000000\n",
      "14 | 655.9057241699 | 655.9057241699 | 0.0000000000 | 1.0000000000\n",
      "15 | 655.9057241699 | 655.9057241699 | 0.0000000000 | 1.0000000000\n",
      "16 | 655.9057241699 | 655.9057241699 | 0.0000000000 | 1.0000000000\n",
      "17 | 655.9057241699 | 655.9057241699 | 0.0000000000 | 1.0000000000\n",
      "18 | 655.9057241699 | 655.9057241699 | 0.0000000000 | 1.0000000000\n",
      "19 | 655.9057241699 | 655.9057241699 | 0.0000000000 | 1.0000000000\n"
     ]
    }
   ],
   "source": [
    "fd=lambda d:d*np.tan(theta)-g*d**2/2/v**2/np.cos(theta)**2\n",
    "dfd=lambda d:np.tan(theta)-g*d/v**2/np.cos(theta)**2\n",
    "f2 = lambda d: d-fd(d)/dfd(d)\n",
    "valuesFpi,errorsFpi=fpi(f2, 500, 20,dReal)"
   ]
  },
  {
   "cell_type": "markdown",
   "metadata": {},
   "source": [
    "Se observa que d converge a d=655.9057241699.\n"
   ]
  },
  {
   "cell_type": "markdown",
   "metadata": {},
   "source": [
    "### Newton\n",
    "Se tiene que:\n",
    "$$f(v)=d\\cdot tan(20) - \\frac{9.8\\cdot d^2}{2\\cdot 100^2 \\cdot cos^2(20)}$$\n",
    "$$f'(v)=tan(20) - \\frac{9.8\\cdot d}{100^2 \\cdot cos^2(20)}$$\n",
    "Luego se aplica el algoritmo del método de newton, con valor inicial $d_0=500$."
   ]
  },
  {
   "cell_type": "code",
   "execution_count": 420,
   "metadata": {},
   "outputs": [
    {
     "name": "stdout",
     "output_type": "stream",
     "text": [
      "i |     x(i)     |     x(i+1)   |      |x(i+1)-x(i)|     |  e_i/e_{i-1} | e_i/e_{i-1}^2\n",
      "----------------------------------------------------------------------------------------\n",
      "2 | 500.0000000000 | 726.5450708150 | 226.54507081503345489182 | 0.0000000000 | 0.0000000000\n",
      "3 | 726.5450708150 | 662.1651507031 | 64.37992011196763542102 | 0.2841815091 | 0.0012544149\n",
      "4 | 662.1651507031 | 655.9643402380 | 6.20081046505072208674 | 0.0963159080 | 0.0014960551\n",
      "5 | 655.9643402380 | 655.9057294073 | 0.05861083069419237290 | 0.0094521242 | 0.0015243369\n",
      "6 | 655.9057294073 | 655.9057241699 | 0.00000523738287938613 | 0.0000893586 | 0.0015246093\n",
      "7 | 655.9057241699 | 655.9057241699 | 0.00000000000011368684 | 0.0000000217 | 0.0041445896\n"
     ]
    }
   ],
   "source": [
    "f=lambda d:d*np.tan(theta)-g*d**2/2/v**2/np.cos(theta)**2\n",
    "df=lambda d:np.tan(theta)-g*d/v**2/np.cos(theta)**2\n",
    "\n",
    "valuesNewton,errorsNewton=newton_method(f, df, 500, dReal, rel_error=1e-10, m=1)"
   ]
  },
  {
   "cell_type": "markdown",
   "metadata": {},
   "source": [
    "Se observa que d converge a d=655.9057241699.\n"
   ]
  },
  {
   "cell_type": "markdown",
   "metadata": {},
   "source": [
    "### Gráficos"
   ]
  },
  {
   "cell_type": "code",
   "execution_count": 421,
   "metadata": {},
   "outputs": [
    {
     "data": {
      "image/png": "[encoded data removed]",
      "text/plain": [
       "<matplotlib.figure.Figure at 0x113e15eb8>"
      ]
     },
     "metadata": {},
     "output_type": "display_data"
    }
   ],
   "source": [
    "plt.plot(valuesBisect,label='Bisección')\n",
    "plt.plot(valuesFpi,label='Punto Fijo')\n",
    "plt.plot(valuesNewton,label='Newton')\n",
    "plt.axhline(y=655.90572417,linestyle=\"--\",color=\"r\",label='Valor Real')\n",
    "plt.legend()\n",
    "plt.title('Caso 3, Gráfico de acercamiento al valor real')\n",
    "plt.show()"
   ]
  },
  {
   "cell_type": "markdown",
   "metadata": {},
   "source": [
    "Cabe destacar que punto fijo se superpone con newton, debido a que se usó el mismo valor inicial en ambos casos, y los algoritmos son similares. Bisección muestra un comportamiento más errático que los otros algoritmos, ya que va saltando entre mitades."
   ]
  },
  {
   "cell_type": "code",
   "execution_count": 422,
   "metadata": {
    "scrolled": true
   },
   "outputs": [
    {
     "data": {
      "image/png": "[encoded data removed]",
      "text/plain": [
       "<matplotlib.figure.Figure at 0x1142235f8>"
      ]
     },
     "metadata": {},
     "output_type": "display_data"
    }
   ],
   "source": [
    "plt.plot(errorsBisect,label='Bisección')\n",
    "plt.plot(errorsFpi,label='Punto Fijo')\n",
    "plt.plot(errorsNewton,label='Newton')\n",
    "plt.legend()\n",
    "plt.title('Caso 1, Gráfico de Error Absoluto')\n",
    "plt.show()"
   ]
  },
  {
   "cell_type": "markdown",
   "metadata": {},
   "source": [
    "Nuevamente newton y punto fijo se superponen, mientras que bisección tiene errores mayores en las primeras iteraciones."
   ]
  },
  {
   "cell_type": "markdown",
   "metadata": {},
   "source": [
    "### Widgets\n"
   ]
  },
  {
   "cell_type": "code",
   "execution_count": 423,
   "metadata": {},
   "outputs": [],
   "source": [
    "def trayectoria(t):\n",
    "    x = np.linspace(0,d/v/np.cos(theta),1000)\n",
    "    plt.figure(figsize=(8,8))\n",
    "    plt.plot(fx(x),fy(x),'b-')\n",
    "    plt.grid()\n",
    "    plt.ylabel('$trayectoria(x)$',fontsize=16)\n",
    "    plt.xlabel('$x$',fontsize=16)\n",
    "    plt.plot(fx(t),fy(t),'k.',markersize=20)\n",
    "    plt.show()"
   ]
  },
  {
   "cell_type": "markdown",
   "metadata": {},
   "source": [
    "### Caso 1"
   ]
  },
  {
   "cell_type": "code",
   "execution_count": 424,
   "metadata": {
    "scrolled": true
   },
   "outputs": [
    {
     "data": {
      "application/vnd.jupyter.widget-view+json": {
       "model_id": "5ae182a1d8c746cea80e0cf276fffecb",
       "version_major": 2,
       "version_minor": 0
      },
      "text/plain": [
       "A Jupyter Widget"
      ]
     },
     "metadata": {},
     "output_type": "display_data"
    },
    {
     "data": {
      "text/plain": [
       "<function __main__.trayectoria>"
      ]
     },
     "execution_count": 424,
     "metadata": {},
     "output_type": "execute_result"
    }
   ],
   "source": [
    "g=9.8\n",
    "theta=np.radians(20)\n",
    "d=900\n",
    "v=117.138738908\n",
    "fx=lambda t:v*t*np.cos(theta)\n",
    "fy=lambda t:v*t*np.sin(theta)-1/2*g*t**2\n",
    "widgets.interact(trayectoria,t=(0,d/v/np.cos(theta),0.1))"
   ]
  },
  {
   "cell_type": "markdown",
   "metadata": {},
   "source": [
    "### Caso 2"
   ]
  },
  {
   "cell_type": "code",
   "execution_count": 425,
   "metadata": {
    "scrolled": false
   },
   "outputs": [
    {
     "data": {
      "application/vnd.jupyter.widget-view+json": {
       "model_id": "e83b1c9be9894e31b73ebe9a3c6e942c",
       "version_major": 2,
       "version_minor": 0
      },
      "text/plain": [
       "A Jupyter Widget"
      ]
     },
     "metadata": {},
     "output_type": "display_data"
    },
    {
     "data": {
      "text/plain": [
       "<function __main__.trayectoria>"
      ]
     },
     "execution_count": 425,
     "metadata": {},
     "output_type": "execute_result"
    }
   ],
   "source": [
    "g=9.8\n",
    "theta=0.540044763537\n",
    "d=900\n",
    "v=100\n",
    "fx=lambda t:v*t*np.cos(theta)\n",
    "fy=lambda t:v*t*np.sin(theta)-1/2*g*t**2\n",
    "widgets.interact(trayectoria,t=(0,d/v/np.cos(theta),0.1))"
   ]
  },
  {
   "cell_type": "markdown",
   "metadata": {},
   "source": [
    "### Caso 3"
   ]
  },
  {
   "cell_type": "code",
   "execution_count": 426,
   "metadata": {
    "scrolled": false
   },
   "outputs": [
    {
     "data": {
      "application/vnd.jupyter.widget-view+json": {
       "model_id": "edcef49bb14045909b26c57d12631192",
       "version_major": 2,
       "version_minor": 0
      },
      "text/plain": [
       "A Jupyter Widget"
      ]
     },
     "metadata": {},
     "output_type": "display_data"
    },
    {
     "data": {
      "text/plain": [
       "<function __main__.trayectoria>"
      ]
     },
     "execution_count": 426,
     "metadata": {},
     "output_type": "execute_result"
    }
   ],
   "source": [
    "g=9.8\n",
    "theta=np.radians(20)\n",
    "v=100\n",
    "d=655.90572417\n",
    "fx=lambda t:v*t*np.cos(theta)\n",
    "fy=lambda t:v*t*np.sin(theta)-1/2*g*t**2\n",
    "widgets.interact(trayectoria,t=(0,d/v/np.cos(theta),0.1))"
   ]
  },
  {
   "cell_type": "code",
   "execution_count": null,
   "metadata": {
    "collapsed": true
   },
   "outputs": [],
   "source": []
  },
  {
   "cell_type": "markdown",
   "metadata": {},
   "source": [
    "## Pregunta 3  [60 puntos]"
   ]
  },
  {
   "cell_type": "markdown",
   "metadata": {},
   "source": [
    "La tierra esta bajo ataque, seres de otra galaxia han venido para apoderarse de la tierra y esclavizar la humanidad. Los aliens se hacen llamar los singulares y han colocado una nave nodriza que genera un escudo que divide la tierra en dos, de esta manera las fuerzas que pelean en un frente no pueden recibir apoyo del otro. Unos físicos se dieron cuenta que el escudo tiene una debilidad, un pequeño agujero que se encuentra entre $\\alpha$ y $\\beta$ metros de altura sobre el nivel del mar, es por esto que se realizará una ofensiva con projectiles de largo alcance que serán lanzados por un buque de guerra. Para que el ataque tenga éxito se necesita conocer el ángulo y la velocidad que debe ser lanzado el projectil para que este impacte a la nave alienígena, como usted tiene conocimientos sobre algoritmos de búsqueda de ceros se le pide que encuentre los distintos parámetros que harán que la misión sea un éxito. Usted dispone de la siguiente información:\n",
    "\n",
    "\n",
    "* El buque de guerra se encuentra a $x_b$ metros de la barrera y $x_0$ de la nave (eje $x$).\n",
    "* La nave se encuentra a una altura de $y_0$ metros (eje $y$).\n",
    "* El buque se encuentra en el origen de su sistema de coordenadas.\n",
    "* La velocidad máxima a la que se pueden lanzar los misiles son de $v \\left[\\dfrac{m}{s}\\right]$.\n",
    "* Aproxime la gravedad a $9.8 \\left[\\dfrac{m}{s^2}\\right]$"
   ]
  },
  {
   "cell_type": "markdown",
   "metadata": {},
   "source": [
    "<a id='example'></a>\n",
    "![title](example.png)"
   ]
  },
  {
   "cell_type": "markdown",
   "metadata": {},
   "source": [
    "Encuentre la velocidad, el ángulo y el tiempo en el cual se logra impactar al ovni en el menor tiempo posible. Utilice la siguientre estructura:\n",
    "\n",
    "```python\n",
    "'''\n",
    "Input: \n",
    "ovni_location - (2D-array) List with the functions to modelate x and y coordinates of the O.V.N.I. as a function of time. \n",
    "barrier_coordinates - (3D-array) Array with the x position of the barrier and the range of the hole. \n",
    "\n",
    "Output:\n",
    "best_angle - (double) The best angle for the projectile to impact the O.V.N.I in the less time possible.\n",
    "best_speed - (double) The best speed for the projectile to impact the O.V.N.I in the less time possible.\n",
    "time_of_collision - (double) Time of collision.\n",
    "'''\n",
    "\n",
    "def shoot_projectile(ovni_location, barrier_coordinates):\n",
    "    ...\n",
    "    return [best_angle, best_speed, time_of_collision]\n",
    "```\n",
    "Las entradas de su función son las siguientes:\n",
    "   * *ovni_location*: Una lista de funciones para modelar el movimiento del ovni. Por ejemplo [$x_0 + \\cos(t), y_0 + \\sin(t)$] o [$x_0 , y_0 + \\sin(t)$].\n",
    "   * *barrier_coordinates*: Un arreglo donde el primer elemento es la posición en el eje $x$ de la barrera, y la segunda y tercera posición son el rango donde se encuentra la debilidad del escudo. La estructura de su arreglo debe ser $[x_b, \\alpha, \\beta]$\n",
    "   * Nota: en caso de no encontrar una solución, su algoritmo debe retornar [-1,-1,-1].\n",
    "   \n",
    "Un ejemplo de estos *inputs* se encuentra en la siguiente celda:"
   ]
  },
  {
   "cell_type": "code",
   "execution_count": 434,
   "metadata": {
    "collapsed": true
   },
   "outputs": [],
   "source": [
    "#Examples Values\n",
    "x0 = 5000\n",
    "y0 = 8000\n",
    "x_ovni = lambda t: x0 + np.cos(t)\n",
    "y_ovni = lambda t: y0 + np.sin(t)\n",
    "#Examples Input \n",
    "ovni_position = [x_ovni, y_ovni]\n",
    "barrier_coordinates = np.array([4000, 7500, 7600])"
   ]
  },
  {
   "cell_type": "code",
   "execution_count": 470,
   "metadata": {},
   "outputs": [
    {
     "name": "stdout",
     "output_type": "stream",
     "text": [
      "i |     x(i)     |     x(i+1)   |      |x(i+1)-x(i)|     |  e_i/e_{i-1} | e_i/e_{i-1}^2\n",
      "----------------------------------------------------------------------------------------\n",
      "2 | 0.0000000000 | -inf | inf | nan | nan\n",
      "Newtons Method diverged!\n"
     ]
    },
    {
     "name": "stderr",
     "output_type": "stream",
     "text": [
      "/Users/carlos/anaconda3/lib/python3.6/site-packages/ipykernel_launcher.py:75: RuntimeWarning: divide by zero encountered in double_scalars\n",
      "/Users/carlos/anaconda3/lib/python3.6/site-packages/ipykernel_launcher.py:82: RuntimeWarning: invalid value encountered in double_scalars\n",
      "/Users/carlos/anaconda3/lib/python3.6/site-packages/ipykernel_launcher.py:93: RuntimeWarning: invalid value encountered in double_scalars\n"
     ]
    },
    {
     "ename": "TypeError",
     "evalue": "'NoneType' object is not iterable",
     "output_type": "error",
     "traceback": [
      "\u001b[0;31m---------------------------------------------------------------------------\u001b[0m",
      "\u001b[0;31mTypeError\u001b[0m                                 Traceback (most recent call last)",
      "\u001b[0;32m<ipython-input-470-b584aa56f8f0>\u001b[0m in \u001b[0;36m<module>\u001b[0;34m()\u001b[0m\n\u001b[1;32m      9\u001b[0m         \u001b[0mtiempo\u001b[0m\u001b[0;34m=\u001b[0m\u001b[0mvaluesNewton\u001b[0m\u001b[0;34m[\u001b[0m\u001b[0;34m-\u001b[0m\u001b[0;36m1\u001b[0m\u001b[0;34m]\u001b[0m\u001b[0;34m\u001b[0m\u001b[0m\n\u001b[1;32m     10\u001b[0m     \u001b[0;32mreturn\u001b[0m \u001b[0;34m[\u001b[0m\u001b[0;34m-\u001b[0m\u001b[0;36m1\u001b[0m\u001b[0;34m,\u001b[0m\u001b[0;34m-\u001b[0m\u001b[0;36m1\u001b[0m\u001b[0;34m,\u001b[0m\u001b[0;34m-\u001b[0m\u001b[0;36m1\u001b[0m\u001b[0;34m]\u001b[0m\u001b[0;34m\u001b[0m\u001b[0m\n\u001b[0;32m---> 11\u001b[0;31m \u001b[0mangle\u001b[0m\u001b[0;34m,\u001b[0m\u001b[0mspeed\u001b[0m\u001b[0;34m,\u001b[0m\u001b[0mtime\u001b[0m\u001b[0;34m=\u001b[0m\u001b[0;34m(\u001b[0m\u001b[0mshoot_projectile\u001b[0m\u001b[0;34m(\u001b[0m\u001b[0movni_position\u001b[0m\u001b[0;34m,\u001b[0m \u001b[0mbarrier_coordinates\u001b[0m\u001b[0;34m)\u001b[0m\u001b[0;34m)\u001b[0m\u001b[0;34m\u001b[0m\u001b[0m\n\u001b[0m",
      "\u001b[0;32m<ipython-input-470-b584aa56f8f0>\u001b[0m in \u001b[0;36mshoot_projectile\u001b[0;34m(ovni_location, barrier_coordinates)\u001b[0m\n\u001b[1;32m      6\u001b[0m         \u001b[0mf\u001b[0m\u001b[0;34m=\u001b[0m\u001b[0;32mlambda\u001b[0m \u001b[0mt\u001b[0m\u001b[0;34m:\u001b[0m\u001b[0;36m4000\u001b[0m\u001b[0;34m*\u001b[0m\u001b[0mnp\u001b[0m\u001b[0;34m.\u001b[0m\u001b[0mtan\u001b[0m\u001b[0;34m(\u001b[0m\u001b[0mtheta\u001b[0m\u001b[0;34m)\u001b[0m\u001b[0;34m-\u001b[0m\u001b[0;36m1\u001b[0m\u001b[0;34m/\u001b[0m\u001b[0;36m2\u001b[0m\u001b[0;34m*\u001b[0m\u001b[0mg\u001b[0m\u001b[0;34m*\u001b[0m\u001b[0mt\u001b[0m\u001b[0;34m**\u001b[0m\u001b[0;36m2\u001b[0m\u001b[0;34m-\u001b[0m\u001b[0;36m7550\u001b[0m\u001b[0;34m\u001b[0m\u001b[0m\n\u001b[1;32m      7\u001b[0m         \u001b[0mdf\u001b[0m\u001b[0;34m=\u001b[0m\u001b[0;32mlambda\u001b[0m \u001b[0mt\u001b[0m\u001b[0;34m:\u001b[0m\u001b[0;34m-\u001b[0m\u001b[0mg\u001b[0m\u001b[0;34m*\u001b[0m\u001b[0mt\u001b[0m\u001b[0;34m\u001b[0m\u001b[0m\n\u001b[0;32m----> 8\u001b[0;31m         \u001b[0mvaluesNewton\u001b[0m\u001b[0;34m,\u001b[0m\u001b[0merrorsNewton\u001b[0m\u001b[0;34m=\u001b[0m\u001b[0mnewton_method\u001b[0m\u001b[0;34m(\u001b[0m\u001b[0mf\u001b[0m\u001b[0;34m,\u001b[0m \u001b[0mdf\u001b[0m\u001b[0;34m,\u001b[0m \u001b[0;36m0\u001b[0m\u001b[0;34m,\u001b[0m \u001b[0mthetaReal\u001b[0m\u001b[0;34m,\u001b[0m \u001b[0mrel_error\u001b[0m\u001b[0;34m=\u001b[0m\u001b[0;36m1e-10\u001b[0m\u001b[0;34m,\u001b[0m \u001b[0mm\u001b[0m\u001b[0;34m=\u001b[0m\u001b[0;36m1\u001b[0m\u001b[0;34m)\u001b[0m\u001b[0;34m\u001b[0m\u001b[0m\n\u001b[0m\u001b[1;32m      9\u001b[0m         \u001b[0mtiempo\u001b[0m\u001b[0;34m=\u001b[0m\u001b[0mvaluesNewton\u001b[0m\u001b[0;34m[\u001b[0m\u001b[0;34m-\u001b[0m\u001b[0;36m1\u001b[0m\u001b[0;34m]\u001b[0m\u001b[0;34m\u001b[0m\u001b[0m\n\u001b[1;32m     10\u001b[0m     \u001b[0;32mreturn\u001b[0m \u001b[0;34m[\u001b[0m\u001b[0;34m-\u001b[0m\u001b[0;36m1\u001b[0m\u001b[0;34m,\u001b[0m\u001b[0;34m-\u001b[0m\u001b[0;36m1\u001b[0m\u001b[0;34m,\u001b[0m\u001b[0;34m-\u001b[0m\u001b[0;36m1\u001b[0m\u001b[0;34m]\u001b[0m\u001b[0;34m\u001b[0m\u001b[0m\n",
      "\u001b[0;31mTypeError\u001b[0m: 'NoneType' object is not iterable"
     ]
    }
   ],
   "source": [
    "def shoot_projectile(ovni_location, barrier_coordinates):\n",
    "    theta=0\n",
    "    g=9.8\n",
    "    while(theta<90):\n",
    "        theta+=1\n",
    "        f=lambda t:4000*np.tan(theta)-1/2*g*t**2-7550\n",
    "        df=lambda t:-g*t\n",
    "        valuesNewton,errorsNewton=newton_method(f, df, 0, thetaReal, rel_error=1e-10, m=1)\n",
    "        tiempo=valuesNewton[-1]\n",
    "    return [-1,-1,-1]\n",
    "angle,speed,time=(shoot_projectile(ovni_position, barrier_coordinates))"
   ]
  },
  {
   "cell_type": "code",
   "execution_count": 468,
   "metadata": {},
   "outputs": [],
   "source": [
    "#def shoot_projectile(ovni_location, barrier_coordinates):\n",
    "#    t=0\n",
    "#    g=9.8\n",
    "#    while(t<50):\n",
    "#        t+=38\n",
    "#        f=lambda theta:4000*np.tan(theta)-1/2*g*t**2-7550\n",
    "#        df=lambda theta:4000/np.cos(theta)**2\n",
    "#        valuesNewton,errorsNewton=newton_method(f, df, np.radians(60), thetaReal, rel_error=1e-10, m=1)\n",
    "#        theta=np.degrees(valuesNewton[-1])\n",
    "#        if(theta>0 and theta<90):\n",
    "#            f2=lambda t:x_ovni(t)*np.tan(np.radians(theta))-1/2*g*t**2-y_ovni(t)\n",
    "#            if(np.abs(f2(t))<1):\n",
    "#                    return [theta, x_ovni(t)/t, t]\n",
    "#    return [-1,-1,-1]\n",
    "#\n",
    "#angle,speed,time=(shoot_projectile(ovni_position, barrier_coordinates))"
   ]
  },
  {
   "cell_type": "code",
   "execution_count": 469,
   "metadata": {},
   "outputs": [
    {
     "name": "stdout",
     "output_type": "stream",
     "text": [
      "-1 -1 -1\n"
     ]
    }
   ],
   "source": [
    "print (angle,speed,time)"
   ]
  },
  {
   "cell_type": "markdown",
   "metadata": {},
   "source": [
    "Puede usar la siguiente función para gráficar la trayectoria del proyectil:"
   ]
  },
  {
   "cell_type": "code",
   "execution_count": 466,
   "metadata": {},
   "outputs": [
    {
     "data": {
      "application/vnd.jupyter.widget-view+json": {
       "model_id": "6209c10bebfb4aff9fe7e3970c31ec93",
       "version_major": 2,
       "version_minor": 0
      },
      "text/plain": [
       "A Jupyter Widget"
      ]
     },
     "metadata": {},
     "output_type": "display_data"
    },
    {
     "data": {
      "text/plain": [
       "<function __main__.projectile_trayectory>"
      ]
     },
     "execution_count": 466,
     "metadata": {},
     "output_type": "execute_result"
    }
   ],
   "source": [
    "def plotImage(xData, yData, im, ax):\n",
    "    for x, y in zip(xData, yData):\n",
    "        bb = Bbox.from_bounds(x,y,300,600)  \n",
    "        bb2 = TransformedBbox(bb,ax.transData)\n",
    "        bbox_image = BboxImage(bb2,\n",
    "                            norm = None,\n",
    "                            origin=None,\n",
    "                            clip_on=False)\n",
    "\n",
    "        bbox_image.set_data(im)\n",
    "        ax.add_artist(bbox_image)\n",
    "\n",
    "def projectile_trayectory(ovni_position, barrier_coordinates, steps, k=0):\n",
    "    g = 9.8\n",
    "    #Missile trayectory\n",
    "    y_ec = lambda t ,speed, theta: speed*np.sin(theta)*t - 0.5*g*t**2\n",
    "    x_ec = lambda t ,speed, theta: speed*np.cos(theta)*t\n",
    "    ############################################################################\n",
    "    #You have to found the best angle and speed for the input with your function\n",
    "    ############################################################################\n",
    "    # [best_angle, best_speed, time_of_collision] = shoot_projectile(ovni_location, barrier_coordinates)\n",
    "    # Since we don't have the function implemented yet, we will use the following values:\n",
    "    best_angle = 1.25 \n",
    "    best_speed = 417 \n",
    "    best_time = 38\n",
    "    #######################\n",
    "    x_ovni = ovni_position[0]\n",
    "    y_ovni = ovni_position[1]\n",
    "    t_distance = np.linspace(0, best_time, steps)\n",
    "    fig = plt.figure(figsize=(17,8))\n",
    "    ax = fig.add_subplot(111)\n",
    "    plt.xlabel(r\"$x$ [m]\",fontsize = 20) \n",
    "    plt.ylabel(r\"$y$ [m]\",fontsize = 20)\n",
    "    blueX = [x_ovni(x0)]\n",
    "    blueY = [y_ovni(y0)] \n",
    "    x_barrier = [barrier_coordinates[0]]*100\n",
    "    y_1_barrier = np.linspace(0,barrier_coordinates[1],100)\n",
    "    y_2_barrier = np.linspace(barrier_coordinates[2],barrier_coordinates[1]+10000,100)\n",
    "    plt.plot(x_barrier,y_1_barrier,x_barrier,y_2_barrier,color='blue')\n",
    "    ax.set_ylim(0,9000)\n",
    "    ax.set_xlim(0,8000)\n",
    "    plt.title(\"Space Invaders\", fontsize = 20)\n",
    "    plt.grid()\n",
    "    explosion = True\n",
    "    if(x_ec(t_distance[k],best_speed,best_angle) >= barrier_coordinates[0]):\n",
    "        aux = y_ec(t_distance[:k],best_speed,best_angle)[y_ec(t_distance[:k],best_speed,best_angle) > barrier_coordinates[1]]\n",
    "        aux = aux[aux < barrier_coordinates[2]]\n",
    "        if(len(aux) > 0):\n",
    "            ax.plot(x_ec(t_distance[:k],best_speed,best_angle),y_ec(t_distance[:k],best_speed,best_angle),'k--')\n",
    "        else:\n",
    "            aux = x_ec(t_distance[:k],best_speed,best_angle)[x_ec(t_distance[:k],best_speed,best_angle) < barrier_coordinates[0]]\n",
    "            ax.plot(aux, y_ec(t_distance[:len(aux)],best_speed,best_angle),'k--')\n",
    "            explosion = False\n",
    "    else:\n",
    "        explosion = False\n",
    "        ax.plot(x_ec(t_distance[:k],best_speed,best_angle),y_ec(t_distance[:k],best_speed,best_angle),'k--')\n",
    "    if k == len(t_distance)-1 and explosion:\n",
    "        blueX = [x_ovni(k)-100]\n",
    "        blueY = [y_ovni(k)+100]\n",
    "        blueMarker = plt.imread('boom.png')\n",
    "        plotImage(blueX, blueY, blueMarker,ax)\n",
    "        print(\"Impact!.\")\n",
    "    else: \n",
    "        blueMarker = plt.imread('OVNI.png')\n",
    "        plotImage(blueX, blueY, blueMarker,ax)\n",
    "    plt.show()\n",
    "    \n",
    "steps = 100\n",
    "widgets.interact(projectile_trayectory,k=(0,steps-1,1),\n",
    "                 ovni_position = fixed(ovni_position), \n",
    "                 barrier_coordinates = fixed(barrier_coordinates),\n",
    "                 steps = fixed(steps))"
   ]
  },
  {
   "cell_type": "markdown",
   "metadata": {},
   "source": [
    "<a id='bib'></a>\n",
    "## Referencias\n",
    "\n",
    "* 1.- <a href=https://github.com/tclaudioe/Scientific-Computing/blob/master/SC1/04_roots_of_1D_equations.ipynb>[1] Jupyter notebook del profesor </a>\n"
   ]
  },
  {
   "cell_type": "markdown",
   "metadata": {},
   "source": [
    "## Conclusiones\n"
   ]
  },
  {
   "cell_type": "markdown",
   "metadata": {},
   "source": [
    "Usted es libre de modificar el código de la función *projectile_trayectory*, pero el gráfico a mostrar debe verse reflejado como [la figura de ejemplo](#example)."
   ]
  },
  {
   "cell_type": "markdown",
   "metadata": {},
   "source": [
    "# Instrucciones:\n",
    "\n",
    "* La estructura del laboratorio es la siguiente:\n",
    "     1. Título, nombre de estudiante, email y rol.\n",
    "     2. Introducción.\n",
    "     3. Desarrollo y análisis de resultados.\n",
    "     4. Conclusiones.\n",
    "     5. Referencias.\n",
    "* El laboratorio debe ser realizado en `Jupyter Notebook` (`Python3`).\n",
    "* Se evaluará la correcta utilización de librerias `NumPy`, `SciPy`, `SymPy`, `Matplotlib` y `ipywidgets`, así como la correcta implementación de algoritmos vectorizados.\n",
    "* El archivo de entrega debe denominarse Tarea2-rol.tar.gz y debe contener un directorio con todos los archivos necesarios para ejecutar el notebook, junto con un archivo README indicando explícitamente las librerías o módulos utilizados, nombre y rol del estudiante. El _notebook_ debe tener como nombre Tarea2-rol.ipynb.\n",
    "* El descuento por día de atraso será de $30$ puntos, con un máximo de 1 día de atraso. No se recibirán entregas después de este día.\n",
    "* Debe citar toda fuente de código externo. \n",
    "* El trabajo es personal, no se permite compartir código ni utilizar código de otros, aunque sí se sugiere discutir aspectos generales con sus compañeros.\n",
    "* En caso de sospecha de no cumplimiento de estas instrucciones, se solicitará al involucrado o la involucrada a aclarar la situación. Dependiendo de la justificación se decidirá su calificación, la cual podrá o no ser penalizada.\n",
    "* El no seguir estas instrucciones, implica descuentos en su nota obtenida."
   ]
  }
 ],
 "metadata": {
  "anaconda-cloud": {},
  "kernelspec": {
   "display_name": "Python 3",
   "language": "python",
   "name": "python3"
  },
  "language_info": {
   "codemirror_mode": {
    "name": "ipython",
    "version": 3
   },
   "file_extension": ".py",
   "mimetype": "text/x-python",
   "name": "python",
   "nbconvert_exporter": "python",
   "pygments_lexer": "ipython3",
   "version": "3.6.2"
  },
  "widgets": {
   "state": {
    "aa9f87565705401f9847c73f47995a44": {
     "views": [
      {
       "cell_index": 15
      }
     ]
    }
   },
   "version": "1.2.0"
  }
 },
 "nbformat": 4,
 "nbformat_minor": 1
}
